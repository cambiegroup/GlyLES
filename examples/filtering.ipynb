{
 "cells": [
  {
   "cell_type": "markdown",
   "source": [
    "# Working with Glycans directly - Monomer-level\n",
    "\n",
    "In order to work with glycans beyond simple conversion, one can directly work on glycans. This is possible without parsing the whole glycan into SMILES but just read in the monosaccharide tree by setting `full=False` when instantiating a glycan."
   ],
   "metadata": {
    "collapsed": false,
    "pycharm": {
     "name": "#%% md\n"
    }
   }
  },
  {
   "cell_type": "code",
   "execution_count": 1,
   "outputs": [
    {
     "name": "stdout",
     "output_type": "stream",
     "text": [
      "O1C(O)[C@H](O[C@H]2O[C@H](CO)[C@@H](O)[C@H](O)[C@@H]2O)[C@@H](O)[C@@H](O)[C@H]1CO\n",
      "None\n"
     ]
    }
   ],
   "source": [
    "from glyles import Glycan\n",
    "\n",
    "\n",
    "glycan = Glycan(\"Man(a1-2)Gal\")  # read full glycan\n",
    "print(glycan.glycan_smiles)  # better use glycan.get_smiles(), but good for demonstration\n",
    "\n",
    "glycan = Glycan(\"Man(a1-2)Gal\", full=False)\n",
    "print(glycan.glycan_smiles)"
   ],
   "metadata": {
    "collapsed": false,
    "pycharm": {
     "name": "#%%\n"
    }
   }
  },
  {
   "cell_type": "markdown",
   "source": [
    "### Count substructures\n",
    "\n",
    "Using GlyLES, the user can count how often a certain substructure occurs in a glycan. For this check, only the main monosaccharide has to match, not it's orientation, bonds, or attached functional groups.\n",
    "\n",
    "Instead of passing a glycan object to the `count` function, cou can also send the IUPAC-condensed string."
   ],
   "metadata": {
    "collapsed": false,
    "pycharm": {
     "name": "#%% md\n"
    }
   }
  },
  {
   "cell_type": "code",
   "execution_count": 2,
   "outputs": [
    {
     "name": "stdout",
     "output_type": "stream",
     "text": [
      "3\n",
      "3\n"
     ]
    }
   ],
   "source": [
    "glycan = Glycan(\"GalNAc(a1-4)Tal(b1-4)Neu5Ac(a2-3)[ManN(a1-4)Gal(b1-4)[Glc(b1-2)Fru(a1-3)]Gul(a1-2)Glc3S(b1-4)]Gal(a1-4)Man\")\n",
    "sub = Glycan(\"Gal\")\n",
    "\n",
    "print(glycan.count(sub))\n",
    "print(glycan.count(\"Gal\"))"
   ],
   "metadata": {
    "collapsed": false,
    "pycharm": {
     "name": "#%%\n"
    }
   }
  },
  {
   "cell_type": "markdown",
   "source": [
    "##### This can be extended to bigger substructures"
   ],
   "metadata": {
    "collapsed": false,
    "pycharm": {
     "name": "#%% md\n"
    }
   }
  },
  {
   "cell_type": "code",
   "execution_count": 3,
   "outputs": [
    {
     "name": "stdout",
     "output_type": "stream",
     "text": [
      "1\n"
     ]
    }
   ],
   "source": [
    "print(glycan.count(\"Glc(a1-2)Gal\"))"
   ],
   "metadata": {
    "collapsed": false,
    "pycharm": {
     "name": "#%%\n"
    }
   }
  },
  {
   "cell_type": "markdown",
   "source": [
    "##### Exact substructure matches\n",
    "\n",
    "This can also be done as exact matching, i.e. the matching galactoses have to have the exact same modifications as the query. This includes the orientation of the monosaccharides. Similarly, matching of bonds can be requested. Finally, both matching filters can be combined."
   ],
   "metadata": {
    "collapsed": false,
    "pycharm": {
     "name": "#%% md\n"
    }
   }
  },
  {
   "cell_type": "code",
   "execution_count": 4,
   "outputs": [
    {
     "name": "stdout",
     "output_type": "stream",
     "text": [
      "0\n",
      "1\n",
      "0\n",
      "1\n",
      "0\n",
      "0\n",
      "1\n"
     ]
    }
   ],
   "source": [
    "# Matching monosaccharides exactly\n",
    "print(glycan.count(\"Glc(b1-2)Gal\", exact_nodes=True))\n",
    "print(glycan.count(\"Glc3S(b1-2)Gal\", exact_nodes=True))\n",
    "\n",
    "# Matching bonds between monosaccharides exactly\n",
    "print(glycan.count(\"Glc3S(b1-2)Gal\", exact_edges=True))\n",
    "print(glycan.count(\"Glc(b1-4)Gal\", exact_edges=True))\n",
    "\n",
    "# Matching both monosaccharides and their bonds exactly\n",
    "print(glycan.count(\"Glc3S(b1-2)Gal\", exact_nodes=True, exact_edges=True))\n",
    "print(glycan.count(\"Glc(b1-4)Gal\", exact_nodes=True, exact_edges=True))\n",
    "print(glycan.count(\"Glc3S(b1-4)Gal\", exact_nodes=True, exact_edges=True))"
   ],
   "metadata": {
    "collapsed": false,
    "pycharm": {
     "name": "#%%\n"
    }
   }
  },
  {
   "cell_type": "markdown",
   "source": [
    "### Filtering and Ordering Glycans based on Structural Properties\n",
    "\n",
    "Using this, you can filter and sort lists of glycans based on structural properties."
   ],
   "metadata": {
    "collapsed": false,
    "pycharm": {
     "name": "#%% md\n"
    }
   }
  },
  {
   "cell_type": "code",
   "execution_count": 5,
   "outputs": [
    {
     "data": {
      "text/plain": "0"
     },
     "execution_count": 5,
     "metadata": {},
     "output_type": "execute_result"
    }
   ],
   "source": [
    "glycans = [(line.split(\"\\t\")[0], Glycan(line.split(\"\\t\")[0])) for line in open(\"files/pubchem_poly.tsv\", \"r\").readlines()]\n",
    "query = Glycan(\"Tal\")\n",
    "len(list(filter(lambda x: x[1].count(query) > 0, glycans)))"
   ],
   "metadata": {
    "collapsed": false,
    "pycharm": {
     "name": "#%%\n"
    }
   }
  },
  {
   "cell_type": "code",
   "execution_count": 9,
   "outputs": [
    {
     "name": "stdout",
     "output_type": "stream",
     "text": [
      "4: Gal(b1-4)GlcNAc(b1-4)[GalNAc(b1-4)GlcNAc(b1-2)]Man(a1-3)[GalNAc(b1-4)GlcNAc(b1-2)[GalNAc(b1-4)GlcNAc(b1-6)]Man(a1-6)]Man(b1-4)GlcNAc(b1-4)[Fuc(a1-6)]GlcNAc\n",
      "3: GalNAc(b1-4)GlcNAc(b1-2)[GalNAc(b1-4)GlcNAc(b1-6)]Man(a1-6)[GalNAc(b1-4)GlcNAc(b1-2)Man(a1-3)]Man(b1-4)GlcNAc(b1-4)[Fuc(a1-6)]GlcNAc\n",
      "3: Gal(b1-4)GlcNAc(b1-2)[GalNAc(b1-4)GlcNAc(b1-6)]Man(a1-6)[GalNAc(b1-4)GlcNAc(b1-2)Man(a1-3)]Man(b1-4)GlcNAc(b1-4)[Fuc(a1-6)]GlcNAc\n",
      "3: Gal(b1-4)GlcNAc(b1-4)[GalNAc(b1-4)GlcNAc(b1-2)]Man(a1-3)[GalNAc(b1-4)GlcNAc(b1-2)Man(a1-6)]Man(b1-4)GlcNAc(b1-4)[Fuc(a1-6)]GlcNAc\n",
      "3: Gal(b1-4)GlcNAc(b1-6)[GalNAc(b1-4)GlcNAc(b1-2)]Man(a1-6)[GalNAc(b1-4)GlcNAc(b1-2)Man(a1-3)]Man(b1-4)GlcNAc(b1-4)[Fuc(a1-6)]GlcNAc\n",
      "3: Gal(a1-3)Gal(b1-4)GlcNAc(b1-2)Man(a1-3)[GalNAc(b1-4)GlcNAc(b1-2)Man(a1-6)]Man(b1-4)GlcNAc(b1-4)[Fuc(a1-6)]GlcNAc\n",
      "3: Fuc(a1-2)[GalNAc(a1-3)]Gal(b1-4)GlcNAc(b1-2)Man(a1-3)[Gal(b1-4)GlcNAc(b1-2)Man(a1-6)]Man(b1-4)GlcNAc(b1-4)GlcNAc\n",
      "3: Fuc(a1-2)[GalNAc(a1-3)]Gal(b1-4)GlcNAc(b1-2)Man(a1-6)[Gal(b1-4)GlcNAc(b1-2)Man(a1-3)]Man(b1-4)GlcNAc(b1-4)GlcNAc\n",
      "3: Gal(a1-3)Gal(b1-4)GlcNAc(b1-2)Man(a1-6)[NeuAc(a2-6)GalNAc(b1-4)GlcNAc(b1-2)Man(a1-3)]Man(b1-4)GlcNAc(b1-4)[Fuc(a1-6)]GlcNAc\n",
      "3: Fuc(a1-2)[GalNAc(a1-3)]Gal(b1-4)GlcNAc(b1-2)Man(a1-6)[NeuAc(a2-3)Gal(b1-4)GlcNAc(b1-2)Man(a1-3)]Man(b1-4)GlcNAc(b1-4)GlcNAc\n"
     ]
    }
   ],
   "source": [
    "query = Glycan(\"Gal\")\n",
    "print(\"\\n\".join([f\"{x[1].count(query)}: {x[0]}\" for x in sorted(glycans, key=lambda x: x[1].count(query), reverse=True)][:10]))"
   ],
   "metadata": {
    "collapsed": false,
    "pycharm": {
     "name": "#%%\n"
    }
   }
  },
  {
   "cell_type": "code",
   "execution_count": null,
   "outputs": [],
   "source": [],
   "metadata": {
    "collapsed": false,
    "pycharm": {
     "name": "#%%\n"
    }
   }
  }
 ],
 "metadata": {
  "kernelspec": {
   "display_name": "Python 3",
   "language": "python",
   "name": "python3"
  },
  "language_info": {
   "codemirror_mode": {
    "name": "ipython",
    "version": 2
   },
   "file_extension": ".py",
   "mimetype": "text/x-python",
   "name": "python",
   "nbconvert_exporter": "python",
   "pygments_lexer": "ipython2",
   "version": "2.7.6"
  }
 },
 "nbformat": 4,
 "nbformat_minor": 0
}