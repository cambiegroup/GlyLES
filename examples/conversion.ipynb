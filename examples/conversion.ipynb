{
 "cells": [
  {
   "cell_type": "markdown",
   "source": [],
   "metadata": {
    "collapsed": false,
    "pycharm": {
     "name": "#%% md\n"
    }
   }
  },
  {
   "cell_type": "code",
   "execution_count": 1,
   "outputs": [],
   "source": [
    "from glyles import convert, convert_generator"
   ],
   "metadata": {
    "collapsed": false,
    "pycharm": {
     "name": "#%%\n"
    }
   }
  },
  {
   "cell_type": "markdown",
   "source": [
    "## Input formats\n",
    "\n",
    "We will with go through different input formats. These include single glycans, lists or tuples, files, and generators of glycans. Combinations of those are possible.\n",
    "\n",
    "### Conversion of a single glycan\n",
    "\n",
    "The output will be a list with one tuple containing the input IUPAC-condensed string and the SMILES string."
   ],
   "metadata": {
    "collapsed": false,
    "pycharm": {
     "name": "#%% md\n"
    }
   }
  },
  {
   "cell_type": "code",
   "execution_count": 2,
   "outputs": [
    {
     "data": {
      "text/plain": "[('Gal', 'O1C(O)[C@H](O)[C@@H](O)[C@@H](O)[C@H]1CO')]"
     },
     "execution_count": 2,
     "metadata": {},
     "output_type": "execute_result"
    }
   ],
   "source": [
    "convert(\"Gal\")"
   ],
   "metadata": {
    "collapsed": false,
    "pycharm": {
     "name": "#%%\n"
    }
   }
  },
  {
   "cell_type": "markdown",
   "source": [
    "### Conversion of a list of glycans\n",
    "\n",
    "The output will be a list with as many tuples as structures are given. All tuples will hold the input IUPAC-condensed string and the according SMILES string. This works with tuple-input as well."
   ],
   "metadata": {
    "collapsed": false,
    "pycharm": {
     "name": "#%% md\n"
    }
   }
  },
  {
   "cell_type": "code",
   "execution_count": 3,
   "outputs": [
    {
     "data": {
      "text/plain": "[('Gal', 'O1C(O)[C@H](O)[C@@H](O)[C@@H](O)[C@H]1CO'),\n ('Man', 'O1C(O)[C@@H](O)[C@@H](O)[C@H](O)[C@H]1CO'),\n ('GalNAc', 'O1C(O)[C@H](NC(C)=O)[C@@H](O)[C@@H](O)[C@H]1CO'),\n ('NeuAc', 'O1[C@@H]([C@H](O)[C@H](O)CO)[C@H](NC(C)=O)[C@@H](O)CC1(O)C(=O)O')]"
     },
     "execution_count": 3,
     "metadata": {},
     "output_type": "execute_result"
    }
   ],
   "source": [
    "convert(glycan_list=[\"Gal\", \"Man\", \"GalNAc\", \"NeuAc\"])"
   ],
   "metadata": {
    "collapsed": false,
    "pycharm": {
     "name": "#%%\n"
    }
   }
  },
  {
   "cell_type": "markdown",
   "source": [
    "### Conversion of a file containing glycans\n",
    "\n",
    "Input can also be a file where each file contains one glycan per line."
   ],
   "metadata": {
    "collapsed": false,
    "pycharm": {
     "name": "#%% md\n"
    }
   }
  },
  {
   "cell_type": "code",
   "execution_count": 4,
   "outputs": [
    {
     "data": {
      "text/plain": "[('GalNAc', 'O1C(O)[C@H](NC(C)=O)[C@@H](O)[C@@H](O)[C@H]1CO'),\n ('GlcNAca', 'O1[C@H](O)[C@H](NC(C)=O)[C@@H](O)[C@H](O)[C@H]1CO'),\n ('GalA', 'O1C(O)[C@H](O)[C@@H](O)[C@@H](O)[C@H]1C(=O)O'),\n ('GlcA', 'O1C(O)[C@H](O)[C@@H](O)[C@H](O)[C@H]1C(=O)O'),\n ('GalN', 'O1C(O)[C@H](N)[C@@H](O)[C@@H](O)[C@H]1CO')]"
     },
     "execution_count": 4,
     "metadata": {},
     "output_type": "execute_result"
    }
   ],
   "source": [
    "convert(glycan_file=\"files/general.txt\")"
   ],
   "metadata": {
    "collapsed": false,
    "pycharm": {
     "name": "#%%\n"
    }
   }
  },
  {
   "cell_type": "markdown",
   "source": [
    "### Conversion of a generator of glycans\n",
    "\n",
    "The output will be the same as if the input is a list of glycans."
   ],
   "metadata": {
    "collapsed": false,
    "pycharm": {
     "name": "#%% md\n"
    }
   }
  },
  {
   "cell_type": "code",
   "execution_count": 5,
   "outputs": [
    {
     "data": {
      "text/plain": "[('Gal', 'O1C(O)[C@H](O)[C@@H](O)[C@@H](O)[C@H]1CO'),\n ('Man', 'O1C(O)[C@@H](O)[C@@H](O)[C@H](O)[C@H]1CO'),\n ('GalNAc', 'O1C(O)[C@H](NC(C)=O)[C@@H](O)[C@@H](O)[C@H]1CO'),\n ('NeuAc', 'O1[C@@H]([C@H](O)[C@H](O)CO)[C@H](NC(C)=O)[C@@H](O)CC1(O)C(=O)O')]"
     },
     "execution_count": 5,
     "metadata": {},
     "output_type": "execute_result"
    }
   ],
   "source": [
    "def gen():\n",
    "    for glycan in [\"Gal\", \"Man\", \"GalNAc\", \"NeuAc\"]:\n",
    "        yield glycan\n",
    "\n",
    "\n",
    "convert(glycan_generator=gen())"
   ],
   "metadata": {
    "collapsed": false,
    "pycharm": {
     "name": "#%%\n"
    }
   }
  },
  {
   "cell_type": "markdown",
   "source": [
    "## Output formats\n",
    "\n",
    "As shown above, we have different input formats, but also the output can be changed. Aside from the list of tuples already shown above, there are other options. Default is to return a list of tuples with the IUPAC-condensed strings and SMILES strings as seen above.\n",
    "\n",
    "### Output as a generator\n",
    "\n",
    "As output one can select to have a generator which is especially helpful if the input is also a generator and one wants to parallelize jobs. For this specific output, one has to call the `convert_generator` function. The generator generates tuples of the form as described above."
   ],
   "metadata": {
    "collapsed": false,
    "pycharm": {
     "name": "#%% md\n"
    }
   }
  },
  {
   "cell_type": "code",
   "execution_count": 6,
   "outputs": [
    {
     "name": "stdout",
     "output_type": "stream",
     "text": [
      "<class 'generator'>\n",
      "('Gal', 'O1C(O)[C@H](O)[C@@H](O)[C@@H](O)[C@H]1CO')\n",
      "('Man', 'O1C(O)[C@@H](O)[C@@H](O)[C@H](O)[C@H]1CO')\n",
      "('GalNAc', 'O1C(O)[C@H](NC(C)=O)[C@@H](O)[C@@H](O)[C@H]1CO')\n",
      "('NeuAc', 'O1[C@@H]([C@H](O)[C@H](O)CO)[C@H](NC(C)=O)[C@@H](O)CC1(O)C(=O)O')\n"
     ]
    }
   ],
   "source": [
    "output = convert_generator(glycan_generator=gen())\n",
    "print(type(output))\n",
    "for g in output:\n",
    "    print(g)"
   ],
   "metadata": {
    "collapsed": false,
    "pycharm": {
     "name": "#%%\n"
    }
   }
  },
  {
   "cell_type": "markdown",
   "source": [
    "### Write output to a file\n",
    "\n",
    "One can write the tuples generated into a file. The file will have the CSV format."
   ],
   "metadata": {
    "collapsed": false,
    "pycharm": {
     "name": "#%% md\n"
    }
   }
  },
  {
   "cell_type": "code",
   "execution_count": 7,
   "outputs": [],
   "source": [
    "convert(glycan_list=[\"Gal\", \"Man\", \"GalNAc\", \"NeuAc\"], output_file=\"files/example.csv\")"
   ],
   "metadata": {
    "collapsed": false,
    "pycharm": {
     "name": "#%%\n"
    }
   }
  },
  {
   "cell_type": "markdown",
   "source": [
    "### Write output to stdout\n",
    "\n",
    "If file-output is not selected and returning the list is actively rejected, the output will be printed to the standard output. As with the file-output, the output will have CSV format. If some input cannot be converted, the package rises an error and returns a half-empty tuple."
   ],
   "metadata": {
    "collapsed": false,
    "pycharm": {
     "name": "#%% md\n"
    }
   }
  },
  {
   "cell_type": "code",
   "execution_count": 8,
   "outputs": [
    {
     "name": "stderr",
     "output_type": "stream",
     "text": [
      "WARNING:root:No output-file specified, results will be printed on stdout.\n",
      "ERROR:root:A parsing error occurred with Ne{u: <class 'glyles.glycans.utils.ParseError'>\n",
      "Error message: Glycan cannot be parsed:\n",
      "line 1:2 token recognition error at: 'e{'\n"
     ]
    },
    {
     "name": "stdout",
     "output_type": "stream",
     "text": [
      "Gal,O1C(O)[C@H](O)[C@@H](O)[C@@H](O)[C@H]1CO\n",
      "Man,O1C(O)[C@@H](O)[C@@H](O)[C@H](O)[C@H]1CO\n",
      "GalNAc,O1C(O)[C@H](NC(C)=O)[C@@H](O)[C@@H](O)[C@H]1CO\n",
      "NeuAc,O1[C@@H]([C@H](O)[C@H](O)CO)[C@H](NC(C)=O)[C@@H](O)CC1(O)C(=O)O\n",
      "Ne{u,\n"
     ]
    }
   ],
   "source": [
    "convert(glycan_list=[\"Gal\", \"Man\", \"GalNAc\", \"NeuAc\", \"Ne{u\"], returning=False)"
   ],
   "metadata": {
    "collapsed": false,
    "pycharm": {
     "name": "#%%\n"
    }
   }
  },
  {
   "cell_type": "markdown",
   "source": [
    "## Verbosity\n",
    "\n",
    "As we see form the code-cell above, the program might print some messages. This can be suppressed on different levels using the built-in python module `logging`."
   ],
   "metadata": {
    "collapsed": false,
    "pycharm": {
     "name": "#%% md\n"
    }
   }
  },
  {
   "cell_type": "code",
   "execution_count": 9,
   "outputs": [
    {
     "name": "stderr",
     "output_type": "stream",
     "text": [
      "ERROR:root:A parsing error occurred with Ne{u: <class 'glyles.glycans.utils.ParseError'>\n",
      "Error message: Glycan cannot be parsed:\n",
      "line 1:2 token recognition error at: 'e{'\n"
     ]
    },
    {
     "data": {
      "text/plain": "[('Gal', 'O1C(O)[C@H](O)[C@@H](O)[C@@H](O)[C@H]1CO'),\n ('Man', 'O1C(O)[C@@H](O)[C@@H](O)[C@H](O)[C@H]1CO'),\n ('GalNAc', 'O1C(O)[C@H](NC(C)=O)[C@@H](O)[C@@H](O)[C@H]1CO'),\n ('NeuAc', 'O1[C@@H]([C@H](O)[C@H](O)CO)[C@H](NC(C)=O)[C@@H](O)CC1(O)C(=O)O'),\n ('Ne{u', '')]"
     },
     "execution_count": 9,
     "metadata": {},
     "output_type": "execute_result"
    }
   ],
   "source": [
    "import logging\n",
    "\n",
    "\n",
    "convert(glycan_list=[\"Gal\", \"Man\", \"GalNAc\", \"NeuAc\", \"Ne{u\"], verbose=logging.WARNING)"
   ],
   "metadata": {
    "collapsed": false,
    "pycharm": {
     "name": "#%%\n"
    }
   }
  },
  {
   "cell_type": "markdown",
   "source": [
    "As pythons built-in logging library does not support for turning off all loggings, we implemented this on our own for the input `verbose=None`."
   ],
   "metadata": {
    "collapsed": false,
    "pycharm": {
     "name": "#%% md\n"
    }
   }
  },
  {
   "cell_type": "code",
   "execution_count": 10,
   "outputs": [
    {
     "data": {
      "text/plain": "[('Gal', 'O1C(O)[C@H](O)[C@@H](O)[C@@H](O)[C@H]1CO'),\n ('Man', 'O1C(O)[C@@H](O)[C@@H](O)[C@H](O)[C@H]1CO'),\n ('GalNAc', 'O1C(O)[C@H](NC(C)=O)[C@@H](O)[C@@H](O)[C@H]1CO'),\n ('NeuAc', 'O1[C@@H]([C@H](O)[C@H](O)CO)[C@H](NC(C)=O)[C@@H](O)CC1(O)C(=O)O'),\n ('Ne{u', '')]"
     },
     "execution_count": 10,
     "metadata": {},
     "output_type": "execute_result"
    }
   ],
   "source": [
    "convert(glycan_list=[\"Gal\", \"Man\", \"GalNAc\", \"NeuAc\", \"Ne{u\"], verbose=None)"
   ],
   "metadata": {
    "collapsed": false,
    "pycharm": {
     "name": "#%%\n"
    }
   }
  }
 ],
 "metadata": {
  "kernelspec": {
   "display_name": "Python 3",
   "language": "python",
   "name": "python3"
  },
  "language_info": {
   "codemirror_mode": {
    "name": "ipython",
    "version": 2
   },
   "file_extension": ".py",
   "mimetype": "text/x-python",
   "name": "python",
   "nbconvert_exporter": "python",
   "pygments_lexer": "ipython2",
   "version": "2.7.6"
  }
 },
 "nbformat": 4,
 "nbformat_minor": 0
}